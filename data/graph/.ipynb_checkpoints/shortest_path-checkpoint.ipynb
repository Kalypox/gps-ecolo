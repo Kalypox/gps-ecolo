{
 "cells": [
  {
   "cell_type": "code",
   "execution_count": 1,
   "metadata": {},
   "outputs": [],
   "source": [
    "import networkx as nx\n",
    "import math\n",
    "import json"
   ]
  },
  {
   "cell_type": "markdown",
   "metadata": {},
   "source": [
    "***Import des données / fonctions nécessaires***"
   ]
  },
  {
   "cell_type": "code",
   "execution_count": 2,
   "metadata": {},
   "outputs": [],
   "source": [
    "G = nx.read_gpickle(\"graph\") # chemin vers fichier \"graph\" (créé dans le graph.ipynb)\n",
    "\n",
    "with open('rel', 'r') as in_f: # chemin vers fichier \"rel\" (créé dans le graph.ipynb)\n",
    "    rel = json.load(in_f)"
   ]
  },
  {
   "cell_type": "code",
   "execution_count": 3,
   "metadata": {},
   "outputs": [],
   "source": [
    "def mins_maxs(edges_data: list) -> list:\n",
    "    \"\"\"\n",
    "    Calcul les attributs minimums et maximums des edges (on ne s'intéresse pas à l'attribut \"transport\")\n",
    "    \"\"\"\n",
    "    maxs, mins = {}, {}\n",
    "    for attrib in edges_data:\n",
    "        for key, value in attrib[2].items():\n",
    "            if value != str(value):\n",
    "                if maxs.get(key, 0) < value:\n",
    "                    maxs[key] = value\n",
    "                if mins.get(key, 1e12) > value:\n",
    "                    mins[key] = value\n",
    "    return [maxs, mins]\n",
    "\n",
    "def put_weight(G: object, duree: int, distance: int, empreinte_carbone: int, prix: int) -> object:\n",
    "    \"\"\"\n",
    "    Définit les poids des arrêtes du graph G par rapport aux 4 attributs qui nous intéressent\n",
    "    \"\"\"\n",
    "    maxs, mins = mins_maxs(list(G.edges.data()))\n",
    "    for edge in G.edges():\n",
    "        attribs = list(G.get_edge_data(*edge).values())\n",
    "        \n",
    "        # on fait coef_duree*(t - t_min)/(t_max - t_min) et de même pour les autres attributs .. à changer ?\n",
    "        weight = duree*(attribs[0]-mins[\"duree\"])/(maxs[\"duree\"]-mins[\"duree\"]) + \\\n",
    "                 distance*(attribs[1]-mins[\"distance\"])/(maxs[\"distance\"]-mins[\"distance\"]) + \\\n",
    "                 empreinte_carbone*(attribs[2]-mins[\"empreinte_carbone\"])/(maxs[\"empreinte_carbone\"]-\n",
    "                                                                           mins[\"empreinte_carbone\"]) + \\\n",
    "                 prix*(attribs[3]-mins[\"prix\"])/(maxs[\"prix\"]-mins[\"prix\"])\n",
    "        \n",
    "        # on divise le poids par la somme des coef\n",
    "        G[edge[0]][edge[1]]['weight'] = weight/(duree + distance + empreinte_carbone + prix)\n",
    "    return G\n",
    "\n",
    "def ecart(lat_i: float, lat_f: float, long_i: float, long_f: float):\n",
    "    \"\"\"\n",
    "    Calcul de la distance entre deux points gps par la formule de Haversine\n",
    "    \"\"\"\n",
    "    r = 6378\n",
    "    lat_i, long_i = math.radians(lat_i), math.radians(long_i)\n",
    "    lat_f, long_f = math.radians(lat_f), math.radians(long_f)\n",
    "    return 2*r*math.asin(math.sqrt(math.sin((lat_i - lat_f)/2)**2 + math.cos(lat_i)*\n",
    "                                   math.cos(lat_f)*math.sin((long_i-long_f)/2)**2))\n",
    "\n",
    "def shortest_path(G_i: object, pt1: tuple, pt2: tuple, rel: dict, n1: int=10, n2: int=10, \\\n",
    "                  funct: object=nx.dijkstra_path, duree: int=10, distance: int=1, empreinte_carbone: int=1, \\\n",
    "                  prix: int=1, )-> dict:\n",
    "    \"\"\"\n",
    "    FONCTION A UTILISER !\n",
    "    G_i -> Graph à utiliser\n",
    "    pt1, pt2 -> point gps (lat, long) du point de départ et d'arrivée\n",
    "    rel -> relations entre les numéros des noeuds et les noms des points\n",
    "    n1, n2 (défaut 10, 10) -> nombre de noeuds de transport les plus proches de pt1, pt2\n",
    "    funct (défaut nx.dijkstra_path) -> fonction pour le plus court chemin. Il y a également nx.shortest_path, etc ?\n",
    "    duree (défaut 10) -> coef de poids pour la durée entre 1 et 10\n",
    "    distance (défaut 1) -> coef de poids pour la distance entre 1 et 10\n",
    "    empreinte_carbone (défaut 1) -> coef de poids pour la empreinte_carbone entre 1 et 10\n",
    "    prix (défaut 1) -> coef de poids pour la prix entre 1 et 10\n",
    "    \"\"\"\n",
    "    \n",
    "    def f_1(dict_sorted: dict, n: int):\n",
    "        \"\"\"\n",
    "        Regarde si il n'y a pas le n-ème noeud qui a la même position que le n+i_ème, etc.. si oui on prend n+i\n",
    "        \"\"\"\n",
    "        count, condition = 0, 0\n",
    "        while count < n or condition == 0:\n",
    "            try:\n",
    "                if list(dict_sorted.values())[count + 1] != list(dict_sorted.values())[count]:\n",
    "                    condition = 1\n",
    "                else:\n",
    "                    condition = 0\n",
    "            except:\n",
    "                pass\n",
    "            count += 1\n",
    "        return count\n",
    "    \n",
    "    def f_2(G: object, count: int, dict_sorted: dict, pt: tuple, name_pt: str):\n",
    "        \"\"\"\n",
    "        Ajoute count edge pour départ/arrivée\n",
    "        \"\"\"\n",
    "        for i in range(count): \n",
    "            pt_proche = list(dict_sorted.keys())[i]\n",
    "            dist = ecart(pt[0], dict_sorted[pt_proche][\"latitude\"], pt[1], dict_sorted[pt_proche][\"longitude\"])\n",
    "            t = 60*dist/3.0 # on par du principe qu'une personne marche à 3km/h (vol d'oiseau)\n",
    "            weight = duree*(t-mins[\"duree\"])/(maxs[\"duree\"]-mins[\"duree\"]) + \\\n",
    "                     distance*(dist-mins[\"distance\"])/(maxs[\"distance\"]-mins[\"distance\"])\n",
    "            if weight < 0:\n",
    "                weight = 0\n",
    "            G.add_edge(name_pt, pt_proche, duree=round(t, 2), distance=round(dist, 3), empreinte_carbone=0.0, \n",
    "                       prix=0.0, transport=\"marche\", weight=weight/(duree + distance + empreinte_carbone + prix))\n",
    "        return G\n",
    "    \n",
    "    G = G_i.copy()\n",
    "    \n",
    "    # on met les poids\n",
    "    G = put_weight(G, duree, distance, empreinte_carbone, prix)\n",
    "    \n",
    "    # on ajoute les noeuds départ et arrivée (qui seront donc fait à la marche)\n",
    "    G.add_node(\"point depart\", latitude=pt1[0], longitude=pt1[1])\n",
    "    G.add_node(\"point arrivee\", latitude=pt2[0], longitude=pt2[1])\n",
    "    \n",
    "    # on va prendre les dep, fin (n1, n2 ou plus si même position) plus proches noeuds de respectivement pt1, pt2\n",
    "    dic_nodes = dict(G.nodes.data())\n",
    "    dep_sorted = {k: v for k, v in sorted(dic_nodes.items(), key=lambda x: ecart(list(x[1].values())[0], pt1[0], \n",
    "                                                                                 list(x[1].values())[1], pt1[1]))}\n",
    "    fin_sorted = {k: v for k, v in sorted(dic_nodes.items(), key=lambda x: ecart(list(x[1].values())[0], pt2[0], \n",
    "                                                                                 list(x[1].values())[1], pt2[1]))}\n",
    "    if n1 < 2: # on fixe au minimum n1 ou n2 a 2 (car le premier edge c'est du noeud vers lui même ..)\n",
    "        n1 = 2\n",
    "    if n2 < 2:\n",
    "        n2 = 2\n",
    "    dep = f_1(dep_sorted, n1)\n",
    "    fin = f_1(fin_sorted, n2)\n",
    "\n",
    "    # ajoute edges liés au n1 et n2 plus proches noeuds par rapport à départ et arrivée\n",
    "    maxs, mins = mins_maxs(list(G.edges.data()))\n",
    "    G = f_2(G, dep, dep_sorted, pt1, \"point depart\")\n",
    "    G = f_2(G, fin, fin_sorted, pt2, \"point arrivee\")\n",
    "\n",
    "    # plus cours chemin (liste des noeuds)\n",
    "    path = {}\n",
    "    path_value =  funct(G, \"point depart\", \"point arrivee\", weight=\"weight\")\n",
    "    caract_value = []\n",
    "    for i in range(1, len(path_value)):\n",
    "        caract_value.append(G[path_value[i-1]][path_value[i]])\n",
    "    path[tuple(path_value)] = caract_value\n",
    "    \n",
    "    # caractéristiques totales du trajet (juste pour le print des caracts)\n",
    "    caract_tot = {}\n",
    "    for value in list(path.values())[0]:\n",
    "        for key, value_bis in value.items():\n",
    "            if value_bis != str(value_bis):\n",
    "                caract_tot[key] = caract_tot.get(key, 0) + value_bis\n",
    "    print(f\"Noeuds définissant le chemin : {list(path.keys())[0]}\\n\\nCaractéristiques du trajet :\")\n",
    "    for key, value, item, arrondi in zip(caract_tot.keys(), caract_tot.values(), \n",
    "                                                          [\"minutes\", \"km\", \"gCO2\", \"euros\", \"\"], [2, 3, 1, 2, 3]):\n",
    "        print(f\"\\n--> {key} : {round(value, arrondi)} {item}\")\n",
    "    \n",
    "    # dictionnaire à retourner pour le site web !\n",
    "    result = {}\n",
    "    for key in list(path.keys())[0]:\n",
    "        if key == \"point depart\":\n",
    "            result[\"points\"] = result.get(\"points\", []) + [list(point_depart)]\n",
    "            result[\"nom points\"] = result.get(\"nom points\", []) + [\"point depart\"]\n",
    "        elif key == \"point arrivee\":\n",
    "            result[\"points\"] = result.get(\"points\", []) + [list(point_arrivee)]\n",
    "            result[\"nom points\"] = result.get(\"nom points\", []) + [\"point arrivee\"]\n",
    "        else:\n",
    "            result[\"points\"] = result.get(\"points\", []) + [list(G.nodes[key].values())]\n",
    "            result[\"nom points\"] = result.get(\"nom points\", []) + [rel[str(key)]]\n",
    "    for value in list(path.values())[0]:\n",
    "        for attrib in [\"duree\", \"distance\", \"empreinte_carbone\", \"prix\", \"transport\"]:\n",
    "            result[attrib] = result.get(attrib, []) + [value[attrib]]\n",
    "    return result"
   ]
  },
  {
   "cell_type": "markdown",
   "metadata": {},
   "source": [
    ">Le point qui pourrait être à modifier c'est la fonction `put_weight` (et donc la partie dans `shortest_path` où il y a la variable `weight` qui est utilisée)   \n",
    "En effet, il y a plusieurs manières de faire, voir laquelle est la mieux ? Je n'y ai pas beaucoup réfléchis atm"
   ]
  },
  {
   "cell_type": "markdown",
   "metadata": {},
   "source": [
    "***Démonstration***"
   ]
  },
  {
   "cell_type": "code",
   "execution_count": 4,
   "metadata": {},
   "outputs": [
    {
     "name": "stdout",
     "output_type": "stream",
     "text": [
      "Noeuds définissant le chemin : ('point depart', 6416, 6415, 6391, 6466, 3101, 3186, 5141, 5140, 'point arrivee')\n",
      "\n",
      "Caractéristiques du trajet :\n",
      "\n",
      "--> duree : 394.68 minutes\n",
      "\n",
      "--> distance : 690.981 km\n",
      "\n",
      "--> empreinte_carbone : 3199.6 gCO2\n",
      "\n",
      "--> prix : 73.48 euros\n",
      "\n",
      "--> weight : 0.379 \n",
      "CPU times: user 450 ms, sys: 3.63 ms, total: 454 ms\n",
      "Wall time: 455 ms\n"
     ]
    }
   ],
   "source": [
    "%%time\n",
    "point_depart = (48.862725, 2.287592)\n",
    "point_arrivee = (43.508798, -1.348325)\n",
    "result_100 = shortest_path(G, point_depart, point_arrivee, rel, n1=100, n2=100)"
   ]
  },
  {
   "cell_type": "code",
   "execution_count": 5,
   "metadata": {
    "scrolled": true
   },
   "outputs": [
    {
     "name": "stdout",
     "output_type": "stream",
     "text": [
      "Noeuds définissant le chemin : ('point depart', 6416, 6415, 6391, 6466, 3101, 3186, 5141, 5140, 'point arrivee')\n",
      "\n",
      "Caractéristiques du trajet :\n",
      "\n",
      "--> duree : 394.68 minutes\n",
      "\n",
      "--> distance : 690.981 km\n",
      "\n",
      "--> empreinte_carbone : 3199.6 gCO2\n",
      "\n",
      "--> prix : 73.48 euros\n",
      "\n",
      "--> weight : 0.379 \n",
      "CPU times: user 417 ms, sys: 13.3 ms, total: 430 ms\n",
      "Wall time: 430 ms\n"
     ]
    }
   ],
   "source": [
    "%%time\n",
    "result_10 = shortest_path(G, point_depart, point_arrivee, rel)"
   ]
  },
  {
   "cell_type": "code",
   "execution_count": 6,
   "metadata": {},
   "outputs": [
    {
     "data": {
      "text/plain": [
       "{'points': [[48.862725, 2.287592],\n",
       "  [48.84063, 2.31989],\n",
       "  [48.72603, 2.26157],\n",
       "  [44.82654, -0.55619],\n",
       "  [43.72067, -1.05032],\n",
       "  [43.72067, -1.05032],\n",
       "  [43.52448, -0.91086],\n",
       "  [43.54677, -1.11579],\n",
       "  [43.49925, -1.30046],\n",
       "  [43.508798, -1.348325]],\n",
       " 'nom points': ['point depart',\n",
       "  'Gare de Paris-Montparnasse 1-2',\n",
       "  'Gare de Massy-TGV',\n",
       "  'Gare de Bordeaux-St-Jean',\n",
       "  'Gare de Dax',\n",
       "  'Gare de Dax',\n",
       "  'Gare de Puyoô',\n",
       "  'Gare de Peyrehorade',\n",
       "  'Gare de Urt',\n",
       "  'point arrivee'],\n",
       " 'duree': [68.25, 10.0, 117.5, 77.5, 0.0, 17.77, 12.0, 11.5, 80.16],\n",
       " 'distance': [3.413, 13.45, 483.86, 129.15, 0.0, 24.56, 16.72, 15.82, 4.008],\n",
       " 'empreinte_carbone': [0.0,\n",
       "  32.3,\n",
       "  1161.3,\n",
       "  310.0,\n",
       "  0.0,\n",
       "  729.5,\n",
       "  496.7,\n",
       "  469.8,\n",
       "  0.0],\n",
       " 'prix': [0.0, 1.48, 53.22, 14.21, 0.0, 1.96, 1.34, 1.27, 0.0],\n",
       " 'transport': ['marche',\n",
       "  'tgv',\n",
       "  'tgv',\n",
       "  'tgv',\n",
       "  'marche',\n",
       "  'ter',\n",
       "  'ter',\n",
       "  'ter',\n",
       "  'marche']}"
      ]
     },
     "execution_count": 6,
     "metadata": {},
     "output_type": "execute_result"
    }
   ],
   "source": [
    "result_100"
   ]
  },
  {
   "cell_type": "code",
   "execution_count": 7,
   "metadata": {},
   "outputs": [
    {
     "data": {
      "text/plain": [
       "{'points': [[48.862725, 2.287592],\n",
       "  [48.84063, 2.31989],\n",
       "  [48.72603, 2.26157],\n",
       "  [44.82654, -0.55619],\n",
       "  [43.72067, -1.05032],\n",
       "  [43.72067, -1.05032],\n",
       "  [43.52448, -0.91086],\n",
       "  [43.54677, -1.11579],\n",
       "  [43.49925, -1.30046],\n",
       "  [43.508798, -1.348325]],\n",
       " 'nom points': ['point depart',\n",
       "  'Gare de Paris-Montparnasse 1-2',\n",
       "  'Gare de Massy-TGV',\n",
       "  'Gare de Bordeaux-St-Jean',\n",
       "  'Gare de Dax',\n",
       "  'Gare de Dax',\n",
       "  'Gare de Puyoô',\n",
       "  'Gare de Peyrehorade',\n",
       "  'Gare de Urt',\n",
       "  'point arrivee'],\n",
       " 'duree': [68.25, 10.0, 117.5, 77.5, 0.0, 17.77, 12.0, 11.5, 80.16],\n",
       " 'distance': [3.413, 13.45, 483.86, 129.15, 0.0, 24.56, 16.72, 15.82, 4.008],\n",
       " 'empreinte_carbone': [0.0,\n",
       "  32.3,\n",
       "  1161.3,\n",
       "  310.0,\n",
       "  0.0,\n",
       "  729.5,\n",
       "  496.7,\n",
       "  469.8,\n",
       "  0.0],\n",
       " 'prix': [0.0, 1.48, 53.22, 14.21, 0.0, 1.96, 1.34, 1.27, 0.0],\n",
       " 'transport': ['marche',\n",
       "  'tgv',\n",
       "  'tgv',\n",
       "  'tgv',\n",
       "  'marche',\n",
       "  'ter',\n",
       "  'ter',\n",
       "  'ter',\n",
       "  'marche']}"
      ]
     },
     "execution_count": 7,
     "metadata": {},
     "output_type": "execute_result"
    }
   ],
   "source": [
    "result_10"
   ]
  },
  {
   "cell_type": "code",
   "execution_count": null,
   "metadata": {},
   "outputs": [],
   "source": []
  }
 ],
 "metadata": {
  "kernelspec": {
   "display_name": "Python 3",
   "language": "python",
   "name": "python3"
  },
  "language_info": {
   "codemirror_mode": {
    "name": "ipython",
    "version": 3
   },
   "file_extension": ".py",
   "mimetype": "text/x-python",
   "name": "python",
   "nbconvert_exporter": "python",
   "pygments_lexer": "ipython3",
   "version": "3.8.5"
  }
 },
 "nbformat": 4,
 "nbformat_minor": 4
}
