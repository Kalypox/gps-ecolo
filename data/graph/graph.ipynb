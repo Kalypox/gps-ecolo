{
 "cells": [
  {
   "cell_type": "markdown",
   "metadata": {},
   "source": [
    "# Création du graph"
   ]
  },
  {
   "cell_type": "code",
   "execution_count": 1,
   "metadata": {},
   "outputs": [],
   "source": [
    "import networkx as nx\n",
    "import pandas as pd\n",
    "import math\n",
    "import json"
   ]
  },
  {
   "cell_type": "markdown",
   "metadata": {},
   "source": [
    "***Import des données***"
   ]
  },
  {
   "cell_type": "code",
   "execution_count": 2,
   "metadata": {},
   "outputs": [],
   "source": [
    "col_1 = [[\"point_1\", \"point_1\", \"point_1\", \"point_2\", \"point_2\", \"point_2\", \"duree (min)\", \"distance (km)\", \n",
    "          \"empreinte carbone (gCO2)\", \"prix (euros)\"],\n",
    "        [\"nom\", \"latitude\", \"longitude\", \"nom\", \"latitude\", \"longitude\", \"\", \"\", \"\", \"\"]]\n",
    "col_2 = [[\"point_1\", \"point_1\", \"point_1\", \"point_2\", \"point_2\", \"point_2\", \"duree (min)\", \"distance (km)\", \n",
    "          \"empreinte carbone (gCO2)\", \"prix (euros)\"], \n",
    "        [\"nom\", \"latitude\", \"longitude\", \"nom\", \"latitude\", \"longitude\", \"\", \"\", \"\", \"\"]]\n",
    "col_1 = pd.MultiIndex.from_arrays(col_1)\n",
    "col_2 = pd.MultiIndex.from_arrays(col_2)\n",
    "\n",
    "df_avions = pd.read_csv(\"results/df_avions.csv\", sep=\",\", header=1, names = col_2)\n",
    "df_bus = pd.read_csv(\"results/df_bus.csv\", sep=\",\", header=1, names = col_1)\n",
    "df_intercites = pd.read_csv(\"results/df_intercites.csv\", sep=\",\", header=1, names = col_1)\n",
    "df_ter = pd.read_csv(\"results/df_ter.csv\", sep=\",\", header=1, names = col_1)\n",
    "df_tgv = pd.read_csv(\"results/df_tgv.csv\", sep=\",\", header=1, names = col_1)"
   ]
  },
  {
   "cell_type": "markdown",
   "metadata": {},
   "source": [
    "***Fonctions***"
   ]
  },
  {
   "cell_type": "code",
   "execution_count": 3,
   "metadata": {},
   "outputs": [],
   "source": [
    "def graph(df: object, transport: str) -> object: # qd avions a les empreintes carbones on fait put weigth direct in\n",
    "    \"\"\"\n",
    "    Retourne le graph définie par le dataframe df ou :\n",
    "     -> Les noeuds sont définis \"nom\"\n",
    "        Les attribus du noeud sont \"latitude\" et \"longitude\"\n",
    "     -> Les arretes sont définis (\"nom\", \"point1\") et (\"point2\", \"nom\")\n",
    "        Les attribus de l'arrete sont \"duree (min)\", \"distance (km)\", \"empreinte carbone (gCO2)\" et \"prix (euros)\"\n",
    "    \"\"\"\n",
    "    G = nx.Graph()\n",
    "    dic_point_pos = {}\n",
    "    for point1, lat1, long1, point2, lat2, long2 in df[[(\"point_1\", \"nom\"), (\"point_1\", \"latitude\"), \n",
    "                                                        (\"point_1\", \"longitude\"), (\"point_2\", \"nom\"), \n",
    "                                                        (\"point_2\", \"latitude\"), (\"point_2\", \"longitude\")]].values:\n",
    "        dic_point_pos[point1] = (round(lat1, 5), round(long1, 5))\n",
    "        dic_point_pos[point2] = (round(lat2, 5), round(long2, 5))\n",
    "\n",
    "    for node, lat_long in dic_point_pos.items():\n",
    "        G.add_node(node, latitude=lat_long[0], longitude=lat_long[1])\n",
    "\n",
    "    dic_point1_point2_attrib = {}\n",
    "    for point1, point2, duree, distance, empreinte_carbone, prix in df[[(\"point_1\", \"nom\"), (\"point_2\", \"nom\"), \n",
    "                                                   (\"duree (min)\", \"\"), (\"distance (km)\", \"\"), \n",
    "                                                   (\"empreinte carbone (gCO2)\", \"\"), (\"prix (euros)\", \"\")]].values:\n",
    "        dic_point1_point2_attrib[(point1, point2)] = (duree, distance, empreinte_carbone, prix)\n",
    "\n",
    "    for points, attrib in dic_point1_point2_attrib.items():\n",
    "        G.add_edge(points[0], points[1], duree=round(attrib[0], 2), distance=round(attrib[1], 2), \n",
    "                   empreinte_carbone=round(attrib[2], 2), prix=round(attrib[3], 2), transport=transport)\n",
    "\n",
    "    return G\n",
    "\n",
    "def merge_graph(Graphs: list) -> object:\n",
    "    G = nx.Graph()\n",
    "    for G_temp in Graphs:\n",
    "        G = nx.disjoint_union(G, G_temp)\n",
    "    return G\n",
    "    \n",
    "def mins_maxs(edges_data: list) -> list:\n",
    "    maxs, mins = {}, {}\n",
    "    for attrib in edges_data:\n",
    "        for key, value in attrib[2].items():\n",
    "            if value != str(value):\n",
    "                if maxs.get(key, 0) < value:\n",
    "                    maxs[key] = value\n",
    "                if mins.get(key, 1e12) > value:\n",
    "                    mins[key] = value\n",
    "    return [maxs, mins]\n",
    "        \n",
    "def ecart(lat_i: float, lat_f: float, long_i: float, long_f: float): #formule de haversine\n",
    "    r = 6378\n",
    "    lat_i, long_i = math.radians(lat_i), math.radians(long_i)\n",
    "    lat_f, long_f = math.radians(lat_f), math.radians(long_f)\n",
    "    return 2*r*math.asin(math.sqrt(math.sin((lat_i - lat_f)/2)**2 + math.cos(lat_i)*\n",
    "                                   math.cos(lat_f)*math.sin((long_i-long_f)/2)**2))\n",
    "\n",
    "def add_connexions(G: object, rayon: int=5) -> object:\n",
    "    \"\"\"\n",
    "    ajoute les connexions avec tous les noeuds à moins de rayon (defaut 5) km du noeud par de la marche\n",
    "    ASSEZ LONG CAR REGARDE SUR TOUS LES NOEUDS LESQUELS SONT LES PLUS PROCHES\n",
    "    \"\"\"\n",
    "    G_added = G.copy()\n",
    "    dic_nodes = dict(G_added.nodes.data())\n",
    "    for node, attribs in dic_nodes.items():\n",
    "        dict_sorted = {k: v for k, v in sorted(dic_nodes.items(), key=lambda x: ecart(list(x[1].values())[0], \n",
    "                                               attribs['latitude'], list(x[1].values())[1], attribs['longitude']))}\n",
    "        edge_added = 0\n",
    "        distance = 0\n",
    "        list_nodes = list(dict_sorted.keys())\n",
    "        while distance < rayon:\n",
    "            node_i = list_nodes[edge_added]\n",
    "            attribs_i = dict_sorted[node_i]\n",
    "            distance = ecart(attribs['latitude'], attribs_i['latitude'], attribs['longitude'], \n",
    "                             attribs_i['longitude'])\n",
    "            t = 60*distance/3.0\n",
    "            edge_added += 1\n",
    "            if node != node_i:\n",
    "                G_added.add_edge(node, node_i, duree=round(t, 2), distance=round(distance, 3), \n",
    "                                 empreinte_carbone=0.0, prix=0.0, transport=\"marche\")\n",
    "    return G_added\n",
    "\n",
    "def rel_num_nom(G, list_df):\n",
    "    \"\"\"\n",
    "    relation entre le numéro du noeud et le nom de la position\n",
    "    on part du principe que pour un nom il n'y a qu'une position et vis versa\n",
    "    \"\"\"\n",
    "    rel = {}\n",
    "    noms, pos = [], []\n",
    "    for df in list_df:\n",
    "        noms += df[(\"point_1\", \"nom\")].values.tolist() + df[(\"point_2\", \"nom\")].values.tolist()\n",
    "        pos_temp = df[[(\"point_1\", \"latitude\"), (\"point_1\", \"longitude\")]].values.tolist() + \\\n",
    "                   df[[(\"point_2\", \"latitude\"), (\"point_2\", \"longitude\")]].values.tolist()\n",
    "        pos += [(round(pos_i[0], 5), round(pos_i[1], 5)) for pos_i in pos_temp]\n",
    "    dic_pos_nom = dict(zip(pos, noms))\n",
    "    for node in G.nodes():\n",
    "        rel[node] = dic_pos_nom[tuple(G.nodes[node].values())]\n",
    "    return rel"
   ]
  },
  {
   "cell_type": "markdown",
   "metadata": {},
   "source": [
    "***Création des graphs / relation entre n° et nom pour le merge de graphs***"
   ]
  },
  {
   "cell_type": "code",
   "execution_count": 4,
   "metadata": {},
   "outputs": [],
   "source": [
    "G_bus = graph(df_bus, \"bus\")\n",
    "#G_avions = graph(df_avions, \"avions\")\n",
    "G_tgv = graph(df_tgv, \"tgv\")\n",
    "G_intercites = graph(df_intercites, \"intercites\")\n",
    "G_ter = graph(df_ter, \"ter\")\n",
    "\n",
    "G = merge_graph([G_bus, G_intercites, G_ter, G_tgv]) # METTRE AVIONS ET TGV !!!!!!!!\n",
    "rayon = 5\n",
    "G = add_connexions(G, rayon=rayon)\n",
    "\n",
    "nx.write_gpickle(G, \"graph\") # data graph définis avec rayon = rayon"
   ]
  },
  {
   "cell_type": "code",
   "execution_count": 6,
   "metadata": {},
   "outputs": [],
   "source": [
    "rel = rel_num_nom(G, [df_bus, df_intercites, df_ter, df_tgv]) # METTRE AVIONS ET TGV !!!!!!!!\n",
    "with open('rel', 'w') as out_f:\n",
    "    json.dump(rel, out_f)"
   ]
  },
  {
   "cell_type": "code",
   "execution_count": null,
   "metadata": {},
   "outputs": [],
   "source": []
  }
 ],
 "metadata": {
  "kernelspec": {
   "display_name": "Python 3",
   "language": "python",
   "name": "python3"
  },
  "language_info": {
   "codemirror_mode": {
    "name": "ipython",
    "version": 3
   },
   "file_extension": ".py",
   "mimetype": "text/x-python",
   "name": "python",
   "nbconvert_exporter": "python",
   "pygments_lexer": "ipython3",
   "version": "3.8.3"
  }
 },
 "nbformat": 4,
 "nbformat_minor": 4
}
